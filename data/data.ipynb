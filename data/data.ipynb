{
 "cells": [
  {
   "cell_type": "markdown",
   "metadata": {},
   "source": [
    "# data "
   ]
  },
  {
   "cell_type": "code",
   "execution_count": 2,
   "metadata": {},
   "outputs": [],
   "source": [
    "import numpy as np\n",
    "import pandas as pd\n",
    "import matplotlib.pyplot as plt\n",
    "import pickle\n",
    "%matplotlib inline"
   ]
  },
  {
   "cell_type": "code",
   "execution_count": 130,
   "metadata": {},
   "outputs": [],
   "source": [
    "def sin(X, N, freq=100):\n",
    "    w = np.random.choice(np.arange(1, 11), N,replace=False)\n",
    "    sin_ = 0\n",
    "    for i_w in w:\n",
    "        sin_ += np.sin(i_w * np.pi * X / freq)\n",
    "    sin_ = sin_/max(sin_)\n",
    "    return sin_\n",
    "\n",
    "def sample(sample_size):\n",
    "    sin_ = sin(np.arange(sample_size), 3)\n",
    "    noise = np.random.uniform(-0.2, 0.2, sample_size)\n",
    "    return sin_ + noise"
   ]
  },
  {
   "cell_type": "code",
   "execution_count": 131,
   "metadata": {},
   "outputs": [],
   "source": [
    "sample_size = 10000\n",
    "data = np.array([sample(sample_size) for i in range(10)])\n",
    "\n",
    "with open('data.pkl', 'wb') as f:\n",
    "    pickle.dump(data, f)"
   ]
  }
 ],
 "metadata": {
  "kernelspec": {
   "display_name": "Python 3",
   "language": "python",
   "name": "python3"
  },
  "language_info": {
   "codemirror_mode": {
    "name": "ipython",
    "version": 3
   },
   "file_extension": ".py",
   "mimetype": "text/x-python",
   "name": "python",
   "nbconvert_exporter": "python",
   "pygments_lexer": "ipython3",
   "version": "3.6.2"
  }
 },
 "nbformat": 4,
 "nbformat_minor": 2
}
